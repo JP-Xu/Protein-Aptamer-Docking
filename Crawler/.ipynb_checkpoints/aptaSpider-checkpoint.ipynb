{
 "cells": [
  {
   "cell_type": "code",
   "execution_count": 1,
   "id": "7205fd72",
   "metadata": {},
   "outputs": [],
   "source": [
    "import requests\n",
    "import re\n",
    "from bs4 import BeautifulSoup"
   ]
  },
  {
   "cell_type": "code",
   "execution_count": 2,
   "id": "518637ff",
   "metadata": {},
   "outputs": [],
   "source": [
    "url = 'https://www.aptagen.com/aptamer-details/?id=44'"
   ]
  },
  {
   "cell_type": "code",
   "execution_count": 103,
   "id": "5b35cbd6",
   "metadata": {},
   "outputs": [
    {
     "name": "stdout",
     "output_type": "stream",
     "text": [
      "\n",
      "             Name             \t                Sequence                \n"
     ]
    }
   ],
   "source": [
    "def getHTMLText(url):\n",
    "    try:\n",
    "        r = requests.get(url, headers={'user-agent':'Chrome/16.0'}, timeout=30)\n",
    "        r.raise_for_status\n",
    "        r.encoding = r.apparent_encoding\n",
    "        return r.text\n",
    "    except:\n",
    "        return \"\"\n",
    "    \n",
    "def parsePage(ilt, html):\n",
    "    soup = BeautifulSoup(html, 'html.parser')\n",
    "    pat = re.compile(r'[r|f][A|G|C|T|U]p')\n",
    "    seq = re.findall(pat, html)\n",
    "    title = soup.title.string\n",
    "    ilt.append([title, seq])\n",
    "    print (\"\")\n",
    "    \n",
    "    \n",
    "def printAptaSeq(ilt):\n",
    "    tplt = '{:^30}\\t{:^40}'\n",
    "    print(tplt.format('Name','Sequence'))\n",
    "    \n",
    "\n",
    "def main():\n",
    "    aptainfo = []\n",
    "    url = 'https://www.aptagen.com/aptamer-details/?id=44'\n",
    "    webtext = getHTMLText(url)\n",
    "    parsePage(aptainfo, webtext)\n",
    "    printAptaSeq(aptainfo)\n",
    "    \n",
    "main()\n",
    "    "
   ]
  },
  {
   "cell_type": "code",
   "execution_count": 6,
   "id": "32e05299",
   "metadata": {},
   "outputs": [],
   "source": [
    "demo = getHTMLText(url)"
   ]
  },
  {
   "cell_type": "code",
   "execution_count": 7,
   "id": "4580a151",
   "metadata": {},
   "outputs": [],
   "source": [
    "soup = BeautifulSoup(demo, 'html.parser')"
   ]
  },
  {
   "cell_type": "code",
   "execution_count": 33,
   "id": "c8a8dfcf",
   "metadata": {},
   "outputs": [],
   "source": [
    "aptaname = soup.title.string.split(':')[1]"
   ]
  },
  {
   "cell_type": "code",
   "execution_count": 88,
   "id": "2eed413c",
   "metadata": {},
   "outputs": [],
   "source": [
    "pat = re.compile(r'[r|f][A|G|C|T|U]p')\n"
   ]
  },
  {
   "cell_type": "code",
   "execution_count": 95,
   "id": "68ea0987",
   "metadata": {},
   "outputs": [
    {
     "name": "stdout",
     "output_type": "stream",
     "text": [
      "\n"
     ]
    }
   ],
   "source": [
    "aptainfo = []\n",
    "parsePage(aptainfo, demo)"
   ]
  },
  {
   "cell_type": "code",
   "execution_count": 102,
   "id": "b9dc5a92",
   "metadata": {},
   "outputs": [
    {
     "data": {
      "text/plain": [
       "['rGp',\n",
       " 'rGp',\n",
       " 'rAp',\n",
       " 'rGp',\n",
       " 'rGp',\n",
       " 'fUp',\n",
       " 'rGp',\n",
       " 'fCp',\n",
       " 'fUp',\n",
       " 'fCp',\n",
       " 'fCp',\n",
       " 'rGp',\n",
       " 'rAp',\n",
       " 'rAp',\n",
       " 'rAp',\n",
       " 'rGp',\n",
       " 'rGp',\n",
       " 'rAp',\n",
       " 'rAp',\n",
       " 'fCp',\n",
       " 'fUp',\n",
       " 'fCp',\n",
       " 'fCp']"
      ]
     },
     "execution_count": 102,
     "metadata": {},
     "output_type": "execute_result"
    }
   ],
   "source": []
  },
  {
   "cell_type": "code",
   "execution_count": null,
   "id": "95e42fa1",
   "metadata": {},
   "outputs": [],
   "source": []
  }
 ],
 "metadata": {
  "kernelspec": {
   "display_name": "Python 3 (ipykernel)",
   "language": "python",
   "name": "python3"
  },
  "language_info": {
   "codemirror_mode": {
    "name": "ipython",
    "version": 3
   },
   "file_extension": ".py",
   "mimetype": "text/x-python",
   "name": "python",
   "nbconvert_exporter": "python",
   "pygments_lexer": "ipython3",
   "version": "3.8.12"
  }
 },
 "nbformat": 4,
 "nbformat_minor": 5
}
