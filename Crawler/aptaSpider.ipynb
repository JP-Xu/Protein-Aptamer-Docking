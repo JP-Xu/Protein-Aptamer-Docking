{
 "cells": [
  {
   "cell_type": "code",
   "execution_count": 1,
   "id": "2c5d0f0c",
   "metadata": {},
   "outputs": [],
   "source": [
    "import requests\n",
    "import re\n",
    "from bs4 import BeautifulSoup"
   ]
  },
  {
   "cell_type": "code",
   "execution_count": 2,
   "id": "60409815",
   "metadata": {},
   "outputs": [],
   "source": [
    "url = 'https://www.aptagen.com/aptamer-details/?id=44'"
   ]
  },
  {
   "cell_type": "code",
   "execution_count": 104,
   "id": "3690ce6e",
   "metadata": {},
   "outputs": [
    {
     "name": "stdout",
     "output_type": "stream",
     "text": [
      "\n",
      "             Name             \t                Sequence                \n"
     ]
    },
    {
     "ename": "TypeError",
     "evalue": "unsupported format string passed to list.__format__",
     "output_type": "error",
     "traceback": [
      "\u001b[0;31m---------------------------------------------------------------------------\u001b[0m",
      "\u001b[0;31mTypeError\u001b[0m                                 Traceback (most recent call last)",
      "\u001b[0;32m/var/folders/1c/bwh74nl12yl48vqj9449cycc0000gn/T/ipykernel_27195/3155316674.py\u001b[0m in \u001b[0;36m<module>\u001b[0;34m\u001b[0m\n\u001b[1;32m     31\u001b[0m     \u001b[0mprintAptaSeq\u001b[0m\u001b[0;34m(\u001b[0m\u001b[0maptainfo\u001b[0m\u001b[0;34m)\u001b[0m\u001b[0;34m\u001b[0m\u001b[0;34m\u001b[0m\u001b[0m\n\u001b[1;32m     32\u001b[0m \u001b[0;34m\u001b[0m\u001b[0m\n\u001b[0;32m---> 33\u001b[0;31m \u001b[0mmain\u001b[0m\u001b[0;34m(\u001b[0m\u001b[0;34m)\u001b[0m\u001b[0;34m\u001b[0m\u001b[0;34m\u001b[0m\u001b[0m\n\u001b[0m\u001b[1;32m     34\u001b[0m \u001b[0;34m\u001b[0m\u001b[0m\n",
      "\u001b[0;32m/var/folders/1c/bwh74nl12yl48vqj9449cycc0000gn/T/ipykernel_27195/3155316674.py\u001b[0m in \u001b[0;36mmain\u001b[0;34m()\u001b[0m\n\u001b[1;32m     29\u001b[0m     \u001b[0mwebtext\u001b[0m \u001b[0;34m=\u001b[0m \u001b[0mgetHTMLText\u001b[0m\u001b[0;34m(\u001b[0m\u001b[0murl\u001b[0m\u001b[0;34m)\u001b[0m\u001b[0;34m\u001b[0m\u001b[0;34m\u001b[0m\u001b[0m\n\u001b[1;32m     30\u001b[0m     \u001b[0mparsePage\u001b[0m\u001b[0;34m(\u001b[0m\u001b[0maptainfo\u001b[0m\u001b[0;34m,\u001b[0m \u001b[0mwebtext\u001b[0m\u001b[0;34m)\u001b[0m\u001b[0;34m\u001b[0m\u001b[0;34m\u001b[0m\u001b[0m\n\u001b[0;32m---> 31\u001b[0;31m     \u001b[0mprintAptaSeq\u001b[0m\u001b[0;34m(\u001b[0m\u001b[0maptainfo\u001b[0m\u001b[0;34m)\u001b[0m\u001b[0;34m\u001b[0m\u001b[0;34m\u001b[0m\u001b[0m\n\u001b[0m\u001b[1;32m     32\u001b[0m \u001b[0;34m\u001b[0m\u001b[0m\n\u001b[1;32m     33\u001b[0m \u001b[0mmain\u001b[0m\u001b[0;34m(\u001b[0m\u001b[0;34m)\u001b[0m\u001b[0;34m\u001b[0m\u001b[0;34m\u001b[0m\u001b[0m\n",
      "\u001b[0;32m/var/folders/1c/bwh74nl12yl48vqj9449cycc0000gn/T/ipykernel_27195/3155316674.py\u001b[0m in \u001b[0;36mprintAptaSeq\u001b[0;34m(ilt)\u001b[0m\n\u001b[1;32m     21\u001b[0m     \u001b[0mprint\u001b[0m\u001b[0;34m(\u001b[0m\u001b[0mtplt\u001b[0m\u001b[0;34m.\u001b[0m\u001b[0mformat\u001b[0m\u001b[0;34m(\u001b[0m\u001b[0;34m'Name'\u001b[0m\u001b[0;34m,\u001b[0m\u001b[0;34m'Sequence'\u001b[0m\u001b[0;34m)\u001b[0m\u001b[0;34m)\u001b[0m\u001b[0;34m\u001b[0m\u001b[0;34m\u001b[0m\u001b[0m\n\u001b[1;32m     22\u001b[0m     \u001b[0;32mfor\u001b[0m \u001b[0mapta\u001b[0m \u001b[0;32min\u001b[0m \u001b[0milt\u001b[0m\u001b[0;34m:\u001b[0m\u001b[0;34m\u001b[0m\u001b[0;34m\u001b[0m\u001b[0m\n\u001b[0;32m---> 23\u001b[0;31m         \u001b[0mprint\u001b[0m\u001b[0;34m(\u001b[0m\u001b[0mtplt\u001b[0m\u001b[0;34m.\u001b[0m\u001b[0mformat\u001b[0m\u001b[0;34m(\u001b[0m\u001b[0mapta\u001b[0m\u001b[0;34m[\u001b[0m\u001b[0;36m0\u001b[0m\u001b[0;34m]\u001b[0m\u001b[0;34m,\u001b[0m \u001b[0mapta\u001b[0m\u001b[0;34m[\u001b[0m\u001b[0;36m1\u001b[0m\u001b[0;34m]\u001b[0m\u001b[0;34m)\u001b[0m\u001b[0;34m)\u001b[0m\u001b[0;34m\u001b[0m\u001b[0;34m\u001b[0m\u001b[0m\n\u001b[0m\u001b[1;32m     24\u001b[0m \u001b[0;34m\u001b[0m\u001b[0m\n\u001b[1;32m     25\u001b[0m \u001b[0;34m\u001b[0m\u001b[0m\n",
      "\u001b[0;31mTypeError\u001b[0m: unsupported format string passed to list.__format__"
     ]
    }
   ],
   "source": [
    "def getHTMLText(url):\n",
    "    try:\n",
    "        r = requests.get(url, headers={'user-agent':'Chrome/16.0'}, timeout=30)\n",
    "        r.raise_for_status\n",
    "        r.encoding = r.apparent_encoding\n",
    "        return r.text\n",
    "    except:\n",
    "        return \"\"\n",
    "    \n",
    "def parsePage(ilt, html):\n",
    "    soup = BeautifulSoup(html, 'html.parser')\n",
    "    pat = re.compile(r'[r|f][A|G|C|T|U]p')\n",
    "    seq = re.findall(pat, html)\n",
    "    title = soup.title.string\n",
    "    ilt.append([title, seq])\n",
    "    print (\"\")\n",
    "    \n",
    "    \n",
    "def printAptaSeq(ilt):\n",
    "    tplt = '{:^30}\\t{:^40}'\n",
    "    print(tplt.format('Name','Sequence'))\n",
    "    for apta in ilt:\n",
    "        print(tplt.format(apta[0], apta[1]))\n",
    "    \n",
    "\n",
    "def main():\n",
    "    aptainfo = []\n",
    "    url = 'https://www.aptagen.com/aptamer-details/?id=44'\n",
    "    webtext = getHTMLText(url)\n",
    "    parsePage(aptainfo, webtext)\n",
    "    printAptaSeq(aptainfo)\n",
    "    \n",
    "main()\n",
    "    "
   ]
  },
  {
   "cell_type": "code",
   "execution_count": 6,
   "id": "db76f94a",
   "metadata": {},
   "outputs": [],
   "source": [
    "demo = getHTMLText(url)"
   ]
  },
  {
   "cell_type": "code",
   "execution_count": 7,
   "id": "cbc67e8b",
   "metadata": {},
   "outputs": [],
   "source": [
    "soup = BeautifulSoup(demo, 'html.parser')"
   ]
  },
  {
   "cell_type": "code",
   "execution_count": 33,
   "id": "1f2aa41a",
   "metadata": {},
   "outputs": [],
   "source": [
    "aptaname = soup.title.string.split(':')[1]"
   ]
  },
  {
   "cell_type": "code",
   "execution_count": 88,
   "id": "7e8210bc",
   "metadata": {},
   "outputs": [],
   "source": [
    "pat = re.compile(r'[r|f][A|G|C|T|U]p')\n"
   ]
  },
  {
   "cell_type": "code",
   "execution_count": 95,
   "id": "de4c44c9",
   "metadata": {},
   "outputs": [
    {
     "name": "stdout",
     "output_type": "stream",
     "text": [
      "\n"
     ]
    }
   ],
   "source": [
    "aptainfo = []\n",
    "parsePage(aptainfo, demo)"
   ]
  },
  {
   "cell_type": "code",
   "execution_count": 112,
   "id": "5c1bfa07",
   "metadata": {},
   "outputs": [
    {
     "name": "stdout",
     "output_type": "stream",
     "text": [
      "Apta-Index: Human Immunoglobulin G (IgG) (Apt 8)\t['rGp', 'rGp', 'rAp', 'rGp', 'rGp', 'fUp', 'rGp', 'fCp', 'fUp', 'fCp', 'fCp', 'rGp', 'rAp', 'rAp', 'rAp', 'rGp', 'rGp', 'rAp', 'rAp', 'fCp', 'fUp', 'fCp', 'fCp']\n"
     ]
    }
   ],
   "source": [
    "for i in aptainfo:\n",
    "    print('{:^20}\\t{:^30}'.format(i[0], str(i[1])))"
   ]
  },
  {
   "cell_type": "code",
   "execution_count": 111,
   "id": "056a1c00",
   "metadata": {},
   "outputs": [
    {
     "data": {
      "text/plain": [
       "\"['rGp', 'rGp', 'rAp', 'rGp', 'rGp', 'fUp', 'rGp', 'fCp', 'fUp', 'fCp', 'fCp', 'rGp', 'rAp', 'rAp', 'rAp', 'rGp', 'rGp', 'rAp', 'rAp', 'fCp', 'fUp', 'fCp', 'fCp']\""
      ]
     },
     "execution_count": 111,
     "metadata": {},
     "output_type": "execute_result"
    }
   ],
   "source": [
    "str(aptainfo[0][1])"
   ]
  },
  {
   "cell_type": "code",
   "execution_count": 113,
   "id": "446d210f",
   "metadata": {},
   "outputs": [
    {
     "ename": "SyntaxError",
     "evalue": "invalid syntax (2249976161.py, line 2)",
     "output_type": "error",
     "traceback": [
      "\u001b[0;36m  File \u001b[0;32m\"/var/folders/1c/bwh74nl12yl48vqj9449cycc0000gn/T/ipykernel_27195/2249976161.py\"\u001b[0;36m, line \u001b[0;32m2\u001b[0m\n\u001b[0;31m    reg = /(?<=body).+(?=<hu)/;\u001b[0m\n\u001b[0m          ^\u001b[0m\n\u001b[0;31mSyntaxError\u001b[0m\u001b[0;31m:\u001b[0m invalid syntax\n"
     ]
    }
   ],
   "source": [
    "str = 'body321389021839012<hu'\n",
    "reg = /(?<=body).+(?=<hu)/;"
   ]
  },
  {
   "cell_type": "code",
   "execution_count": null,
   "id": "c2518805",
   "metadata": {},
   "outputs": [],
   "source": []
  }
 ],
 "metadata": {
  "kernelspec": {
   "display_name": "Python 3 (ipykernel)",
   "language": "python",
   "name": "python3"
  },
  "language_info": {
   "codemirror_mode": {
    "name": "ipython",
    "version": 3
   },
   "file_extension": ".py",
   "mimetype": "text/x-python",
   "name": "python",
   "nbconvert_exporter": "python",
   "pygments_lexer": "ipython3",
   "version": "3.8.12"
  }
 },
 "nbformat": 4,
 "nbformat_minor": 5
}
